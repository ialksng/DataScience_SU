{
  "nbformat": 4,
  "nbformat_minor": 0,
  "metadata": {
    "colab": {
      "provenance": []
    },
    "kernelspec": {
      "name": "python3",
      "display_name": "Python 3"
    },
    "language_info": {
      "name": "python"
    }
  },
  "cells": [
    {
      "cell_type": "code",
      "execution_count": 1,
      "metadata": {
        "colab": {
          "base_uri": "https://localhost:8080/"
        },
        "id": "02xIrTIwhs-6",
        "outputId": "4129e27a-54f1-4869-8519-fac4d9b56674"
      },
      "outputs": [
        {
          "output_type": "stream",
          "name": "stdout",
          "text": [
            "    A   B   C   D\n",
            "0  85  85  72  42\n",
            "1   6  95  40  93\n",
            "2  53  98   2  90\n",
            "3  41  44  33   8\n",
            "4  78  33  98  93\n"
          ]
        }
      ],
      "source": [
        "import pandas as pd\n",
        "import numpy as np\n",
        "\n",
        "rows, cols = 5, 4\n",
        "data = np.random.randint(1, 100, size=(rows, cols))\n",
        "\n",
        "df = pd.DataFrame(data, columns=['A', 'B', 'C', 'D'])\n",
        "\n",
        "print(df)"
      ]
    },
    {
      "cell_type": "code",
      "source": [
        "import pandas as pd\n",
        "\n",
        "# Creating two DataFrames\n",
        "df1 = pd.DataFrame({'A': [1, 2, 3], 'B': [4, 5, 6]})\n",
        "df2 = pd.DataFrame({'A': [7, 8, 9], 'B': [10, 11, 12]})\n",
        "\n",
        "# Concatenating DataFrames (Vertical stacking)\n",
        "df_combined = pd.concat([df1, df2], ignore_index=True)\n",
        "print(df_combined)"
      ],
      "metadata": {
        "colab": {
          "base_uri": "https://localhost:8080/"
        },
        "id": "JdWQHlRNsMSA",
        "outputId": "19565ba1-8fcc-4dab-e7b3-f10703651055"
      },
      "execution_count": 7,
      "outputs": [
        {
          "output_type": "stream",
          "name": "stdout",
          "text": [
            "   A   B\n",
            "0  1   4\n",
            "1  2   5\n",
            "2  3   6\n",
            "3  7  10\n",
            "4  8  11\n",
            "5  9  12\n"
          ]
        }
      ]
    },
    {
      "cell_type": "code",
      "source": [
        "df1 = pd.DataFrame({'ID': [1, 2, 3], 'Name': ['Alice', 'Bob', 'Charlie']})\n",
        "df2 = pd.DataFrame({'ID': [2, 3, 4], 'Score': [85, 90, 78]})\n",
        "\n",
        "# Merging DataFrames on 'ID'\n",
        "df_combined = pd.merge(df1, df2, on='ID', how='inner')  # Can use 'left', 'right', or 'outer'\n",
        "print(df_combined)"
      ],
      "metadata": {
        "colab": {
          "base_uri": "https://localhost:8080/"
        },
        "id": "O1ax5DkprUcB",
        "outputId": "7749b005-e661-4d6b-f383-354a028f4d47"
      },
      "execution_count": 5,
      "outputs": [
        {
          "output_type": "stream",
          "name": "stdout",
          "text": [
            "   ID     Name  Score\n",
            "0   2      Bob     85\n",
            "1   3  Charlie     90\n"
          ]
        }
      ]
    },
    {
      "cell_type": "code",
      "source": [
        "df1 = pd.DataFrame({'A': [1, 2, 3]}, index=['a', 'b', 'c'])\n",
        "df2 = pd.DataFrame({'B': [4, 5, 6]}, index=['a', 'b', 'c'])\n",
        "\n",
        "df_combined = df1.join(df2)\n",
        "print(df_combined)"
      ],
      "metadata": {
        "colab": {
          "base_uri": "https://localhost:8080/"
        },
        "id": "NcEUqo-xrwLm",
        "outputId": "156cc761-852d-4a1a-c0df-eb6ffaa7ee4d"
      },
      "execution_count": 9,
      "outputs": [
        {
          "output_type": "stream",
          "name": "stdout",
          "text": [
            "   A  B\n",
            "a  1  4\n",
            "b  2  5\n",
            "c  3  6\n"
          ]
        }
      ]
    }
  ]
}